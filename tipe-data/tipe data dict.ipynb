{
 "cells": [
  {
   "cell_type": "markdown",
   "id": "c0d2c4bf",
   "metadata": {
    "slideshow": {
     "slide_type": "slide"
    }
   },
   "source": [
    "# Tipe Data Dictionary"
   ]
  },
  {
   "cell_type": "markdown",
   "id": "eccee0d4",
   "metadata": {
    "slideshow": {
     "slide_type": "subslide"
    }
   },
   "source": [
    "Apa itu dictionary? Nah coba perhatikan kode dibawah ini.\n",
    "\n",
    "```json\n",
    "pengguna = {\n",
    "  \"id\": 1,\n",
    "  \"nama_lengkap\": \"Aezakmi\",\n",
    "  \"username\": \"aezakmi\",\n",
    "  \"email\": \"ae@gm.com\",\n",
    "  \"buku\": [\n",
    "      {\n",
    "          \"id\": 1,\n",
    "          \"nama\": \"Tutorial Golang\"\n",
    "      },\n",
    "      {\n",
    "          \"id\"; 2,\n",
    "          \"nama\": \"Tutorial Python\"\n",
    "      }\n",
    "  ]\n",
    "}\n",
    "```"
   ]
  },
  {
   "cell_type": "markdown",
   "id": "bf23a43d",
   "metadata": {
    "slideshow": {
     "slide_type": "slide"
    }
   },
   "source": [
    "# Sifat Item Pada Dictionary\n",
    "\n",
    "1. `Unordered` - Tidak berurutan\n",
    "2. `Changeable` - Nilai bisa berubah\n",
    "3. `Unique` - Tidak bisa memiliki nilai yang sama"
   ]
  },
  {
   "cell_type": "markdown",
   "id": "0e9e9a53",
   "metadata": {
    "slideshow": {
     "slide_type": "subslide"
    }
   },
   "source": [
    "## Misal\n",
    "\n",
    "```python\n",
    "buku = {\n",
    "  \"judul\": \"Menu Masakan Enak\",\n",
    "  \"judul\": \"Menu Masakan Enak Tradisional\"\n",
    "}\n",
    "```\n",
    "\n",
    "Output\n",
    "\n",
    "```\n",
    "Menu Masakan Enak Tradisional\n",
    "```"
   ]
  },
  {
   "cell_type": "markdown",
   "id": "9e29b968",
   "metadata": {
    "slideshow": {
     "slide_type": "slide"
    }
   },
   "source": [
    "# Cara Membuat Tipe Data Dictionary\n",
    "\n",
    "1. Menggunakan tanda `{}`\n",
    "2. Bisa menggunakan `dict()`"
   ]
  },
  {
   "cell_type": "code",
   "execution_count": 2,
   "id": "819935d5",
   "metadata": {
    "slideshow": {
     "slide_type": "subslide"
    }
   },
   "outputs": [
    {
     "name": "stdout",
     "output_type": "stream",
     "text": [
      "None\n"
     ]
    }
   ],
   "source": [
    "# Cara pertama\n",
    "cara_pertama = {\n",
    "    \"id\": 1,\n",
    "    \"nama_lengkap\": \"Hayabusa\",\n",
    "    \"username\": \"hay4bus4\"\n",
    "}\n",
    "\n",
    "print(cara_pertama.get(\"umur\"))"
   ]
  },
  {
   "cell_type": "code",
   "execution_count": 2,
   "id": "ded6e437",
   "metadata": {
    "slideshow": {
     "slide_type": "fragment"
    }
   },
   "outputs": [],
   "source": [
    "# Cara kedua\n",
    "cara_kedua = dict(\n",
    "    id=1,\n",
    "    nama_lengkap=\"Hayabusa\",\n",
    "    username=\"hay4bus4\"\n",
    ")"
   ]
  },
  {
   "cell_type": "code",
   "execution_count": 3,
   "id": "4400c1e4",
   "metadata": {
    "slideshow": {
     "slide_type": "subslide"
    }
   },
   "outputs": [
    {
     "name": "stdout",
     "output_type": "stream",
     "text": [
      "{'id': 1, 'nama_lengkap': 'Hayabusa', 'username': 'hay4bus4'}\n",
      "<class 'dict'>\n",
      "{'id': 1, 'nama_lengkap': 'Hayabusa', 'username': 'hay4bus4'}\n",
      "<class 'dict'>\n"
     ]
    }
   ],
   "source": [
    "# Print\n",
    "\n",
    "print(cara_pertama)\n",
    "print(type(cara_pertama))\n",
    "\n",
    "print(cara_kedua)\n",
    "print(type(cara_kedua))"
   ]
  },
  {
   "cell_type": "markdown",
   "id": "ee175722",
   "metadata": {
    "slideshow": {
     "slide_type": "slide"
    }
   },
   "source": [
    "# Cara Mengakses Item\n",
    "\n",
    "1. Menggunakan kurus siku `[]` di belakang variabel\n",
    "2. Menggunakan method `get()`"
   ]
  },
  {
   "cell_type": "code",
   "execution_count": 4,
   "id": "c1df1d5e",
   "metadata": {
    "slideshow": {
     "slide_type": "fragment"
    }
   },
   "outputs": [
    {
     "name": "stdout",
     "output_type": "stream",
     "text": [
      "hay4bus4\n"
     ]
    }
   ],
   "source": [
    "# Cara pertama\n",
    "print(cara_pertama[\"username\"])"
   ]
  },
  {
   "cell_type": "code",
   "execution_count": 5,
   "id": "175fc904",
   "metadata": {
    "slideshow": {
     "slide_type": "fragment"
    }
   },
   "outputs": [
    {
     "name": "stdout",
     "output_type": "stream",
     "text": [
      "hay4bus4\n"
     ]
    }
   ],
   "source": [
    "# Cara kedua\n",
    "print(cara_kedua.get(\"username\"))"
   ]
  },
  {
   "cell_type": "code",
   "execution_count": 18,
   "id": "e6170060",
   "metadata": {
    "slideshow": {
     "slide_type": "subslide"
    }
   },
   "outputs": [
    {
     "name": "stdout",
     "output_type": "stream",
     "text": [
      "id => 1\n",
      "nama_lengkap => Aezakmi\n",
      "username => aezakmi\n",
      "email => ae@gm.com\n",
      "umur => 23\n",
      "buku => [{'id': 1, 'nama': 'Tutorial Golang'}, {'id': 2, 'nama': 'Tutorial Python'}]\n"
     ]
    }
   ],
   "source": [
    "pengguna = {\n",
    "      \"id\": 1,\n",
    "      \"nama_lengkap\": \"Aezakmi\",\n",
    "      \"username\": \"aezakmi\",\n",
    "      \"email\": \"ae@gm.com\",\n",
    "      \"umur\": 23,\n",
    "      \"buku\": [\n",
    "          {\n",
    "              \"id\": 1,\n",
    "              \"nama\": \"Tutorial Golang\"\n",
    "          },\n",
    "          {\n",
    "              \"id\": 2,\n",
    "              \"nama\": \"Tutorial Python\"\n",
    "          }\n",
    "      ]\n",
    "}\n",
    "\n",
    "for key, value in pengguna.items():\n",
    "    print(key, \"=>\", value)"
   ]
  },
  {
   "cell_type": "code",
   "execution_count": null,
   "id": "e2e1c381",
   "metadata": {},
   "outputs": [],
   "source": [
    "users = [\n",
    "    {\n",
    "        \"id\": 1,\n",
    "        \"nama\": \"Andri\",\n",
    "        \"umur\": 22,\n",
    "        \"jenis_kelamin\": \"Laki-laki\"\n",
    "        \"artikel\": [\n",
    "            \"Tutorial Golang\",\n",
    "            \"Tutorial Python\",\n",
    "        ],\n",
    "        \"followers\": [\n",
    "            {\"id\": 2}\n",
    "        ],\n",
    "        \"followee\": [],\n",
    "    },\n",
    "    {\n",
    "        \"id\": 2,\n",
    "        \"nama\": \"Samson\",\n",
    "        \"umur\": 20,\n",
    "        \"jenis_kelamin\": \"Laki-laki\"\n",
    "        \"artikel\": [],\n",
    "        \"follewers\": [],\n",
    "        \"followee\": [\n",
    "            {\"id\": 1}\n",
    "        ]\n",
    "    }\n",
    "]"
   ]
  },
  {
   "cell_type": "code",
   "execution_count": 10,
   "id": "7a1d879b",
   "metadata": {},
   "outputs": [
    {
     "name": "stdout",
     "output_type": "stream",
     "text": [
      "Tutorial Python\n"
     ]
    }
   ],
   "source": [
    "print(pengguna.get(\"buku\")[1].get(\"nama\"))"
   ]
  },
  {
   "cell_type": "code",
   "execution_count": 7,
   "id": "ebed0304",
   "metadata": {
    "slideshow": {
     "slide_type": "subslide"
    }
   },
   "outputs": [
    {
     "name": "stdout",
     "output_type": "stream",
     "text": [
      "{'id': 1, 'nama_lengkap': 'Aezakmi', 'username': 'aezakmi', 'email': 'ae@gm.com', 'buku': [{'id': 1, 'nama': 'Tutorial Golang'}, {'id': 2, 'nama': 'Tutorial Python'}]}\n"
     ]
    }
   ],
   "source": [
    "print(pengguna)"
   ]
  },
  {
   "cell_type": "code",
   "execution_count": 8,
   "id": "00e429f4",
   "metadata": {
    "slideshow": {
     "slide_type": "fragment"
    }
   },
   "outputs": [
    {
     "name": "stdout",
     "output_type": "stream",
     "text": [
      "aezakmi\n"
     ]
    }
   ],
   "source": [
    "print(pengguna[\"username\"])"
   ]
  },
  {
   "cell_type": "code",
   "execution_count": 9,
   "id": "60ad2aaf",
   "metadata": {
    "slideshow": {
     "slide_type": "fragment"
    }
   },
   "outputs": [
    {
     "name": "stdout",
     "output_type": "stream",
     "text": [
      "[{'id': 1, 'nama': 'Tutorial Golang'}, {'id': 2, 'nama': 'Tutorial Python'}]\n"
     ]
    }
   ],
   "source": [
    "print(pengguna.get(\"buku\"))"
   ]
  },
  {
   "cell_type": "code",
   "execution_count": 10,
   "id": "caa41178",
   "metadata": {
    "slideshow": {
     "slide_type": "fragment"
    }
   },
   "outputs": [
    {
     "name": "stdout",
     "output_type": "stream",
     "text": [
      "Tutorial Python\n"
     ]
    }
   ],
   "source": [
    "print(pengguna[\"buku\"][1][\"nama\"])"
   ]
  },
  {
   "cell_type": "markdown",
   "id": "f0b9c337",
   "metadata": {
    "slideshow": {
     "slide_type": "slide"
    }
   },
   "source": [
    "# Perulangan (Loop) Pada Dictionary"
   ]
  },
  {
   "cell_type": "code",
   "execution_count": 12,
   "id": "44222316",
   "metadata": {},
   "outputs": [
    {
     "name": "stdout",
     "output_type": "stream",
     "text": [
      "dict_items([(1, 'test')])\n"
     ]
    }
   ],
   "source": [
    "print(pengguna.items())"
   ]
  },
  {
   "cell_type": "code",
   "execution_count": 17,
   "id": "a6af4f17",
   "metadata": {
    "slideshow": {
     "slide_type": "fragment"
    }
   },
   "outputs": [
    {
     "name": "stdout",
     "output_type": "stream",
     "text": [
      "id => 1\n",
      "nama_lengkap => Aezakmi\n",
      "username => aezakmi\n",
      "email => ae@gm.com\n",
      "umur => 23\n",
      "buku => [{'id': 1, 'nama': 'Tutorial Golang'}, {'id': 2, 'nama': 'Tutorial Python'}]\n"
     ]
    }
   ],
   "source": [
    "for key, value in pengguna.items():\n",
    "    print(key, \"=>\", value)"
   ]
  },
  {
   "cell_type": "markdown",
   "id": "e580c4cb",
   "metadata": {
    "slideshow": {
     "slide_type": "slide"
    }
   },
   "source": [
    "# Mengubah Nilai"
   ]
  },
  {
   "cell_type": "code",
   "execution_count": 21,
   "id": "81ab4014",
   "metadata": {
    "slideshow": {
     "slide_type": "fragment"
    }
   },
   "outputs": [
    {
     "name": "stdout",
     "output_type": "stream",
     "text": [
      "Nama: Suka Rela\n",
      "Setelah Diubah: Zeus\n",
      "PAdang\n"
     ]
    }
   ],
   "source": [
    "mahasiswa = {\"nim\": 211100000, \"nama\": \"Suka Rela\", \"asal\": \"Diujung sana\"}\n",
    "\n",
    "# Ubah data\n",
    "print(\"Nama:\", mahasiswa.get(\"nama\"))\n",
    "mahasiswa[\"asal\"] = \"PAdang\"\n",
    "mahasiswa[\"nama\"] = \"Zeus\"\n",
    "print(\"Setelah Diubah:\", mahasiswa.get(\"nama\"))\n",
    "print(mahasiswa[\"asal\"])"
   ]
  },
  {
   "cell_type": "markdown",
   "id": "4d067975",
   "metadata": {
    "slideshow": {
     "slide_type": "slide"
    }
   },
   "source": [
    "# Menambahkan Nilai"
   ]
  },
  {
   "cell_type": "code",
   "execution_count": 13,
   "id": "33bd6653",
   "metadata": {
    "scrolled": true,
    "slideshow": {
     "slide_type": "fragment"
    }
   },
   "outputs": [
    {
     "name": "stdout",
     "output_type": "stream",
     "text": [
      "{'nim': 211100000, 'nama': 'Kratos', 'asal': 'Diujung sana'}\n",
      "None\n",
      "Menangis\n",
      "Hobi dari Kratos adalah Menangis\n"
     ]
    }
   ],
   "source": [
    "print(mahasiswa)\n",
    "\n",
    "# Output None\n",
    "print(mahasiswa.get(\"hobi\"))\n",
    "\n",
    "# Tambah data\n",
    "mahasiswa[\"hobi\"] = \"Menangis\"\n",
    "print(mahasiswa.get(\"hobi\"))\n",
    "\n",
    "print(\"Hobi dari {} adalah {}\".format(\n",
    "    mahasiswa.get(\"nama\"),\n",
    "    mahasiswa.get(\"hobi\")\n",
    "))"
   ]
  },
  {
   "cell_type": "markdown",
   "id": "e0e98481",
   "metadata": {
    "slideshow": {
     "slide_type": "slide"
    }
   },
   "source": [
    "# Menghapus"
   ]
  },
  {
   "cell_type": "code",
   "execution_count": 14,
   "id": "e1901bd6",
   "metadata": {
    "slideshow": {
     "slide_type": "fragment"
    }
   },
   "outputs": [
    {
     "name": "stdout",
     "output_type": "stream",
     "text": [
      "{'umur': 21, 'alamat': 'Padang'}\n",
      "\n",
      "{'umur': 21}\n",
      "Padang\n"
     ]
    }
   ],
   "source": [
    "siswa = {\n",
    "    \"nama\": \"Ilahi Kurnia\",\n",
    "    \"umur\": 21,\n",
    "    \"alamat\": \"Padang\"\n",
    "}\n",
    "\n",
    "\"\"\"\n",
    "Bisa menggunakan\n",
    "del siswa[\"nama\"]\n",
    "siswa.pop(\"nama\")\n",
    "\"\"\"\n",
    "\n",
    "del siswa[\"nama\"]\n",
    "print(siswa)\n",
    "print()\n",
    "\n",
    "hapus = siswa.pop(\"alamat\")\n",
    "print(siswa)\n",
    "print(hapus)"
   ]
  },
  {
   "cell_type": "markdown",
   "id": "c75f5c45",
   "metadata": {
    "slideshow": {
     "slide_type": "slide"
    }
   },
   "source": [
    "# Operator Keanggotaan"
   ]
  },
  {
   "cell_type": "code",
   "execution_count": 15,
   "id": "349cae34",
   "metadata": {},
   "outputs": [
    {
     "name": "stdout",
     "output_type": "stream",
     "text": [
      "Apakah variabel siswa mempunyai key `nama`\n",
      "True\n",
      "Apakah variabel siswa TIDAK memiliki key `usia`\n",
      "True\n"
     ]
    }
   ],
   "source": [
    "siswa = {\n",
    "    \"nama\": \"Ilahi Kurnia\",\n",
    "    \"umur\": 21,\n",
    "    \"alamat\": \"Padang\"\n",
    "}\n",
    "\n",
    "print(\"Apakah variabel siswa mempunyai key `nama`\")\n",
    "print(\"nama\" in siswa)\n",
    "\n",
    "print(\"Apakah variabel siswa TIDAK memiliki key `usia`\")\n",
    "print(\"usia\" not in siswa)"
   ]
  },
  {
   "cell_type": "code",
   "execution_count": 16,
   "id": "e276401e",
   "metadata": {
    "slideshow": {
     "slide_type": "slide"
    }
   },
   "outputs": [
    {
     "data": {
      "text/plain": [
       "5"
      ]
     },
     "execution_count": 16,
     "metadata": {},
     "output_type": "execute_result"
    }
   ],
   "source": [
    "# Panjang atau banyak key pada dict\n",
    "len(pengguna)"
   ]
  },
  {
   "cell_type": "code",
   "execution_count": 24,
   "id": "a8460fee",
   "metadata": {
    "slideshow": {
     "slide_type": "fragment"
    }
   },
   "outputs": [
    {
     "name": "stdout",
     "output_type": "stream",
     "text": [
      "Tidak mempunyai akun pinterest\n"
     ]
    }
   ],
   "source": [
    "data = {\n",
    "    \"nama\": \"Zeus\",\n",
    "    \"urls\": [\"google\", \"facebook\", \"github\"]\n",
    "}\n",
    "\n",
    "apakahAdaGoogle = False\n",
    "\n",
    "if \"pinterest\" in data[\"urls\"]:\n",
    "    apakahAdaGoogle = True\n",
    "else:\n",
    "    apakahAdaGoogle = False\n",
    "\n",
    "\n",
    "if apakahAdaGoogle:\n",
    "    print(\"{} mempunyai akun {}\".format(data[\"nama\"], \"Pinterest\"))\n",
    "else:\n",
    "    print(\"Tidak mempunyai akun pinterest\")"
   ]
  },
  {
   "cell_type": "code",
   "execution_count": null,
   "id": "e39d3bec",
   "metadata": {},
   "outputs": [],
   "source": []
  }
 ],
 "metadata": {
  "celltoolbar": "Slideshow",
  "kernelspec": {
   "display_name": "Python 3 (ipykernel)",
   "language": "python",
   "name": "python3"
  },
  "language_info": {
   "codemirror_mode": {
    "name": "ipython",
    "version": 3
   },
   "file_extension": ".py",
   "mimetype": "text/x-python",
   "name": "python",
   "nbconvert_exporter": "python",
   "pygments_lexer": "ipython3",
   "version": "3.10.8"
  }
 },
 "nbformat": 4,
 "nbformat_minor": 5
}
