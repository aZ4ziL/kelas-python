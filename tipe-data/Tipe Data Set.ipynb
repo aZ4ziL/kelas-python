{
 "cells": [
  {
   "cell_type": "markdown",
   "id": "e4c0d066",
   "metadata": {
    "slideshow": {
     "slide_type": "slide"
    }
   },
   "source": [
    "# Tipe Data Set\n",
    "\n",
    "Tipe data set dalam bahasa python adalah tipe data yang tidak berurutan (`unordered`). Misalkan ada dua anggota yang sama dalam nilai set maka secara otomatis salah satu diantaranya akan menghilang atau dihapus, artinya tidak ditampilkan."
   ]
  },
  {
   "cell_type": "markdown",
   "id": "56861fb5",
   "metadata": {
    "slideshow": {
     "slide_type": "subslide"
    }
   },
   "source": [
    "## Operasi Tipe Data Set\n",
    "\n",
    "Salah satu kegunaan tipe data ini bisa digunakan untuk melakukan operasi himpunan matematika seperti irisan, gabungan dan lain-lain.\n",
    "\n",
    "Tipe data set tidak memiliki index, hal ini yang membuat tidak adanya mekanisme pengurutan"
   ]
  },
  {
   "cell_type": "markdown",
   "id": "8f6589ae",
   "metadata": {
    "slideshow": {
     "slide_type": "slide"
    }
   },
   "source": [
    "## Penulisan Set"
   ]
  },
  {
   "cell_type": "code",
   "execution_count": 2,
   "id": "8111ddeb",
   "metadata": {
    "slideshow": {
     "slide_type": "subslide"
    }
   },
   "outputs": [
    {
     "name": "stdout",
     "output_type": "stream",
     "text": [
      "{1, 2, 3, 4, 5, 'd', 'e', 'f', 'g'}\n",
      "<class 'set'>\n",
      "{1, 2, 3, 4, 5, 6, 7, 8}\n"
     ]
    }
   ],
   "source": [
    "# Set dengan nilai campur\n",
    "data = {1, 2, 3, 4, 5, \"d\", \"e\", \"f\", \"g\"}\n",
    "print(data)\n",
    "print(type(data))\n",
    "\n",
    "# Set dengan nilai yang sama\n",
    "x = {1, 2, 3, 4, 5, 1, 2, 3, 6, 7, 8}\n",
    "print(x)"
   ]
  },
  {
   "cell_type": "markdown",
   "id": "9d9350d9",
   "metadata": {
    "slideshow": {
     "slide_type": "slide"
    }
   },
   "source": [
    "## Operasi Tipe Data Set\n",
    "\n",
    "Banyak fungsi set yang bisa digunakan untuk melakukan operasi dengan menggunakan tipe data ini. Misalkan `add()` dan `update()` dll."
   ]
  },
  {
   "cell_type": "markdown",
   "id": "a07d9943",
   "metadata": {
    "slideshow": {
     "slide_type": "slide"
    }
   },
   "source": [
    "### Menambahkan Anggota"
   ]
  },
  {
   "cell_type": "code",
   "execution_count": 3,
   "id": "5cbfc34a",
   "metadata": {
    "slideshow": {
     "slide_type": "fragment"
    }
   },
   "outputs": [
    {
     "name": "stdout",
     "output_type": "stream",
     "text": [
      "{'d', 2, 3, 4, 1, 'c', 'a', 'b'}\n",
      "{'d', 2, 3, 4, 1, 10, 'c', 'a', 'b'}\n",
      "{'d', 2, 3, 4, 1, 10, 11, 'c', 12, 13, 'a', 'b'}\n"
     ]
    }
   ],
   "source": [
    "data = {\"a\", \"b\", \"c\", \"d\", 1, 2, 3, 4}\n",
    "print(data)\n",
    "\n",
    "# Tambahkan nilai 10 untuk anggota set dngn menggunakan fungsi add()\n",
    "data.add(10)\n",
    "print(data)\n",
    "\n",
    "# Tambah nilai 11, 12, 13 dengan menggunakan fungsi update()\n",
    "data.update([11, 12, 13])\n",
    "print(data)"
   ]
  },
  {
   "cell_type": "markdown",
   "id": "b4d8a29a",
   "metadata": {
    "slideshow": {
     "slide_type": "slide"
    }
   },
   "source": [
    "### Menghapus Nilai\n",
    "\n",
    "Untuk menghapus kita akan menggunakan `remove()` dan `discard()`"
   ]
  },
  {
   "cell_type": "code",
   "execution_count": 4,
   "id": "eefe93a6",
   "metadata": {
    "slideshow": {
     "slide_type": "fragment"
    }
   },
   "outputs": [
    {
     "name": "stdout",
     "output_type": "stream",
     "text": [
      "{'d', 2, 3, 4, 1, 'c', 'a', 'b'}\n",
      "{'d', 2, 4, 1, 'c', 'a', 'b'}\n"
     ]
    },
    {
     "ename": "KeyError",
     "evalue": "5",
     "output_type": "error",
     "traceback": [
      "\u001b[0;31m---------------------------------------------------------------------------\u001b[0m",
      "\u001b[0;31mKeyError\u001b[0m                                  Traceback (most recent call last)",
      "Cell \u001b[0;32mIn[4], line 7\u001b[0m\n\u001b[1;32m      5\u001b[0m data\u001b[38;5;241m.\u001b[39mremove(\u001b[38;5;241m3\u001b[39m)\n\u001b[1;32m      6\u001b[0m \u001b[38;5;28mprint\u001b[39m(data)\n\u001b[0;32m----> 7\u001b[0m \u001b[43mdata\u001b[49m\u001b[38;5;241;43m.\u001b[39;49m\u001b[43mremove\u001b[49m\u001b[43m(\u001b[49m\u001b[38;5;241;43m5\u001b[39;49m\u001b[43m)\u001b[49m\n\u001b[1;32m      8\u001b[0m \u001b[38;5;28mprint\u001b[39m(data)\n",
      "\u001b[0;31mKeyError\u001b[0m: 5"
     ]
    }
   ],
   "source": [
    "data = {'a','b','c','d',1,2,3,4}\n",
    "print (data)\n",
    " \n",
    "# menghapus anggota menggunakan fungsi remove()\n",
    "data.remove(3)\n",
    "print(data)\n",
    "data.remove(5)\n",
    "print(data)"
   ]
  },
  {
   "cell_type": "code",
   "execution_count": 5,
   "id": "2fa3882e",
   "metadata": {
    "slideshow": {
     "slide_type": "subslide"
    }
   },
   "outputs": [
    {
     "name": "stdout",
     "output_type": "stream",
     "text": [
      "{'d', 2, 3, 4, 1, 'c', 'a', 'b'}\n",
      "{'d', 2, 4, 1, 'c', 'a', 'b'}\n",
      "{'d', 2, 4, 1, 'c', 'a', 'b'}\n"
     ]
    }
   ],
   "source": [
    "data = {'a','b','c','d',1,2,3,4}\n",
    "print (data)\n",
    " \n",
    "# menghapus anggota menggunakan fungsi discard()\n",
    "data.discard(3)\n",
    "print(data)\n",
    "data.discard(5)\n",
    "print(data)"
   ]
  },
  {
   "cell_type": "markdown",
   "id": "e2e84d59",
   "metadata": {
    "slideshow": {
     "slide_type": "slide"
    }
   },
   "source": [
    "## Operasi Himpunan\n",
    "\n",
    "Contoh: irisan, gabungan, dan selisih"
   ]
  },
  {
   "cell_type": "markdown",
   "id": "1e666819",
   "metadata": {
    "slideshow": {
     "slide_type": "subslide"
    }
   },
   "source": [
    "### Operasi Gabungan"
   ]
  },
  {
   "cell_type": "code",
   "execution_count": 6,
   "id": "8e7dc969",
   "metadata": {
    "slideshow": {
     "slide_type": "fragment"
    }
   },
   "outputs": [
    {
     "name": "stdout",
     "output_type": "stream",
     "text": [
      "{1, 2, 3, 4, 6, 7}\n",
      "{1, 2, 3, 4, 6, 7}\n"
     ]
    }
   ],
   "source": [
    "data1 = {1, 2, 3}\n",
    "data2 = {1, 4, 6, 7}\n",
    "\n",
    "# Menggunakan tanda \n",
    "print(data1 | data2)\n",
    "\n",
    "# Menggunakan fungsi union\n",
    "data3 = data1.union(data2)\n",
    "print(data3)"
   ]
  },
  {
   "cell_type": "markdown",
   "id": "35158da9",
   "metadata": {
    "slideshow": {
     "slide_type": "slide"
    }
   },
   "source": [
    "### Operasi Irisan"
   ]
  },
  {
   "cell_type": "code",
   "execution_count": 8,
   "id": "6eed78c1",
   "metadata": {
    "slideshow": {
     "slide_type": "fragment"
    }
   },
   "outputs": [
    {
     "name": "stdout",
     "output_type": "stream",
     "text": [
      "{1, 3}\n",
      "{1, 3}\n"
     ]
    }
   ],
   "source": [
    "data1 = {1, 2, 3}\n",
    "data2 = {1, 4, 6, 7, 3}\n",
    "\n",
    "# Menggunakan tanda `&`\n",
    "print(data1 & data2)\n",
    "\n",
    "# Menggunakan fungsi intersection\n",
    "data3 = data1.intersection(data2)\n",
    "print(data3)"
   ]
  },
  {
   "cell_type": "markdown",
   "id": "42ed8c1b",
   "metadata": {
    "slideshow": {
     "slide_type": "slide"
    }
   },
   "source": [
    "### Operasi Selisih"
   ]
  },
  {
   "cell_type": "code",
   "execution_count": 9,
   "id": "38893ccc",
   "metadata": {
    "slideshow": {
     "slide_type": "fragment"
    }
   },
   "outputs": [
    {
     "name": "stdout",
     "output_type": "stream",
     "text": [
      "{2}\n",
      "{2}\n"
     ]
    }
   ],
   "source": [
    "data1 = {1, 2, 3}\n",
    "data2 = {1, 4, 6, 7, 3}\n",
    "\n",
    "print(data1 - data2)\n",
    "\n",
    "# Menggunakan fungsi difference\n",
    "data3 = data1.difference(data2)\n",
    "print(data3)"
   ]
  },
  {
   "cell_type": "markdown",
   "id": "12edcb74",
   "metadata": {
    "slideshow": {
     "slide_type": "slide"
    }
   },
   "source": [
    "# Operasi Komplemen"
   ]
  },
  {
   "cell_type": "code",
   "execution_count": 13,
   "id": "981cc073",
   "metadata": {
    "slideshow": {
     "slide_type": "fragment"
    }
   },
   "outputs": [
    {
     "name": "stdout",
     "output_type": "stream",
     "text": [
      "{2, 4, 6, 7}\n",
      "{2, 4, 6, 7}\n"
     ]
    }
   ],
   "source": [
    "data1 = {1, 2, 3}\n",
    "data2 = {1, 4, 6, 7, 3}\n",
    "\n",
    "print(data1 ^ data2)\n",
    "\n",
    "data3 = data1.symmetric_difference(data2)\n",
    "print(data3)"
   ]
  },
  {
   "cell_type": "markdown",
   "id": "1c7bd18d",
   "metadata": {},
   "source": [
    "## Latihan\n",
    "\n",
    "Tulis program Python untuk mengembalikan set baru dengan item unik dari kedua set dengan menghapus duplikat.\n",
    "\n",
    "Contoh:\n",
    "\n",
    "`Input`\n",
    "\n",
    "```python\n",
    "set1 = {10, 20, 30, 40, 50}\n",
    "set2 = {30, 40, 50, 60, 70}\n",
    "```\n",
    "\n",
    "`Output`\n",
    "\n",
    "```python\n",
    "{70, 40, 10, 50, 20, 60, 30}\n",
    "```"
   ]
  }
 ],
 "metadata": {
  "celltoolbar": "Slideshow",
  "kernelspec": {
   "display_name": "Python 3 (ipykernel)",
   "language": "python",
   "name": "python3"
  },
  "language_info": {
   "codemirror_mode": {
    "name": "ipython",
    "version": 3
   },
   "file_extension": ".py",
   "mimetype": "text/x-python",
   "name": "python",
   "nbconvert_exporter": "python",
   "pygments_lexer": "ipython3",
   "version": "3.10.6"
  }
 },
 "nbformat": 4,
 "nbformat_minor": 5
}
