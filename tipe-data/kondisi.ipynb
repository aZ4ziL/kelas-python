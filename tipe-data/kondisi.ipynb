{
 "cells": [
  {
   "cell_type": "markdown",
   "id": "222e752f",
   "metadata": {
    "slideshow": {
     "slide_type": "slide"
    }
   },
   "source": [
    "# Kondisi Percabangan\n",
    "\n",
    "Kondisi pada `python` digunakan untuk pengambilan keputusan yang terjadi pada saat berjalannya program. Jadi kita bisa mengambil keputusan dan tindakan apa yang akan dilakukan sesuai dengan kondisi, kondisi ini maksudnya adalah `True` atau `False`."
   ]
  },
  {
   "cell_type": "markdown",
   "id": "a840a4f1",
   "metadata": {
    "slideshow": {
     "slide_type": "slide"
    }
   },
   "source": [
    "## Kondisi If Else\n",
    "\n",
    "Dalam kondisi `if` kita bisa melakukan tindakan dari statement `True` atau `Benar`."
   ]
  },
  {
   "cell_type": "code",
   "execution_count": 7,
   "id": "7783f91d",
   "metadata": {
    "slideshow": {
     "slide_type": "subslide"
    }
   },
   "outputs": [
    {
     "name": "stdout",
     "output_type": "stream",
     "text": [
      "Saya lulus\n"
     ]
    }
   ],
   "source": [
    "nilai = 80\n",
    "if (nilai > 75):\n",
    "    # Maka statementnya adalah `True` dan program print akan keluar.\n",
    "    print(\"Saya lulus\")\n",
    "else:\n",
    "    print(\"Tidak lulus\")"
   ]
  },
  {
   "cell_type": "code",
   "execution_count": 14,
   "id": "d6c5be62",
   "metadata": {
    "slideshow": {
     "slide_type": "subslide"
    }
   },
   "outputs": [
    {
     "name": "stdout",
     "output_type": "stream",
     "text": [
      "Tidak lulus\n"
     ]
    }
   ],
   "source": [
    "nilai = 40\n",
    "if nilai > 75:\n",
    "    # Statement nya salah atau `False` maka programnya tidak akan keluar\n",
    "    print(\"Saya lulus\")\n",
    "else:\n",
    "    print(\"Tidak lulus\")"
   ]
  },
  {
   "cell_type": "code",
   "execution_count": 13,
   "id": "f549df7d",
   "metadata": {
    "slideshow": {
     "slide_type": "subslide"
    }
   },
   "outputs": [
    {
     "name": "stdout",
     "output_type": "stream",
     "text": [
      "Saya lulus\n"
     ]
    }
   ],
   "source": [
    "nilai = 75\n",
    "if nilai >= 75:\n",
    "    print(\"Saya lulus\")\n",
    "else:\n",
    "    print(\"Tidak lulus\")"
   ]
  },
  {
   "cell_type": "code",
   "execution_count": 5,
   "id": "b0cac0f1",
   "metadata": {
    "slideshow": {
     "slide_type": "subslide"
    }
   },
   "outputs": [
    {
     "name": "stdout",
     "output_type": "stream",
     "text": [
      "True\n",
      "True\n",
      "False\n"
     ]
    }
   ],
   "source": [
    "nilai = 80\n",
    "print(nilai == 80)\n",
    "print(nilai > 75)\n",
    "print(nilai < 75)"
   ]
  },
  {
   "cell_type": "code",
   "execution_count": 7,
   "id": "0735e457",
   "metadata": {
    "slideshow": {
     "slide_type": "subslide"
    }
   },
   "outputs": [
    {
     "name": "stdout",
     "output_type": "stream",
     "text": [
      "False\n",
      "True\n",
      "True\n"
     ]
    }
   ],
   "source": [
    "nilai = 75\n",
    "print(nilai > 75)\n",
    "print(nilai >= 75)\n",
    "print(nilai <= 75)"
   ]
  },
  {
   "cell_type": "markdown",
   "id": "91ad8cea",
   "metadata": {
    "slideshow": {
     "slide_type": "slide"
    }
   },
   "source": [
    "## Not, And, Or"
   ]
  },
  {
   "cell_type": "code",
   "execution_count": 17,
   "id": "c64cbee4",
   "metadata": {
    "slideshow": {
     "slide_type": "subslide"
    }
   },
   "outputs": [
    {
     "name": "stdout",
     "output_type": "stream",
     "text": [
      "aosdhoasdh\n"
     ]
    }
   ],
   "source": [
    "# Not\n",
    "nilai = 75\n",
    "if not nilai >= 75:\n",
    "    print(\"bla bla\")\n",
    "else:\n",
    "    print(\"aosdhoasdh\")\n",
    "# if not nilai > 80:\n",
    "#     print(\"hay\")"
   ]
  },
  {
   "cell_type": "code",
   "execution_count": 19,
   "id": "85302892",
   "metadata": {
    "slideshow": {
     "slide_type": "subslide"
    }
   },
   "outputs": [
    {
     "name": "stdout",
     "output_type": "stream",
     "text": [
      "gagal\n"
     ]
    }
   ],
   "source": [
    "# And\n",
    "nilai_a = 80\n",
    "nilai_b = 40\n",
    "\n",
    "if (nilai_a > 75) and (nilai_b > 75):\n",
    "    print(\"Lulus\")\n",
    "else:\n",
    "    print(\"gagal\")"
   ]
  },
  {
   "cell_type": "code",
   "execution_count": 19,
   "id": "4e96d6d1",
   "metadata": {
    "slideshow": {
     "slide_type": "subslide"
    }
   },
   "outputs": [
    {
     "name": "stdout",
     "output_type": "stream",
     "text": [
      "Tidak lulus\n",
      "Lulus\n"
     ]
    }
   ],
   "source": [
    "nilai_a = 80\n",
    "nilai_b = 55\n",
    "\n",
    "if nilai_a > 75 and nilai_b > 75:\n",
    "    print(\"Lulus\")\n",
    "else:\n",
    "    print(\"Tidak lulus\")\n",
    "\n",
    "if not (nilai_a > 75 and nilai_b > 75):\n",
    "    print(\"Lulus\")\n",
    "else:\n",
    "    print(\"Tidak lulus\")"
   ]
  },
  {
   "cell_type": "code",
   "execution_count": 21,
   "id": "fbe5b7d6",
   "metadata": {
    "slideshow": {
     "slide_type": "subslide"
    }
   },
   "outputs": [
    {
     "name": "stdout",
     "output_type": "stream",
     "text": [
      "Tidak lulus\n"
     ]
    }
   ],
   "source": [
    "nilai_a = 30\n",
    "nilai_b = 55\n",
    "\n",
    "if nilai_a > 75 or nilai_b > 75:\n",
    "    print(\"Lulus\")\n",
    "else:\n",
    "    print(\"Tidak lulus\")"
   ]
  },
  {
   "cell_type": "markdown",
   "id": "57ff21a0",
   "metadata": {
    "slideshow": {
     "slide_type": "slide"
    }
   },
   "source": [
    "## Elif\n",
    "\n",
    "Dengan elif kita bisa membuat kode program yang akan menyeleksi beberapa kemungkinan yang bisa terjadi. "
   ]
  },
  {
   "cell_type": "code",
   "execution_count": 23,
   "id": "a49f785d",
   "metadata": {},
   "outputs": [
    {
     "name": "stdout",
     "output_type": "stream",
     "text": [
      "Hari cuman 1-7\n"
     ]
    }
   ],
   "source": [
    "# Menentukan angka sesuai dengan urutan hari\n",
    "\n",
    "angka = 4\n",
    "\n",
    "if angka == 1:\n",
    "    print(\"Senin\")\n",
    "elif angka == 2:\n",
    "    print(\"Selasa\")\n",
    "elif angka == 3:\n",
    "    print(\"Rabu\")\n",
    "elif angka == 4:\n",
    "    print(\"Kamis\")\n",
    "elif angka == 5:\n",
    "    print(\"Jumat\")\n",
    "elif angka == 6:\n",
    "    print(\"Sabtu\")\n",
    "elif angka == 7:\n",
    "    print(\"Minggu\")\n",
    "else:\n",
    "    print(\"Hari cuman 1-7\")"
   ]
  },
  {
   "cell_type": "code",
   "execution_count": 34,
   "id": "ec517f06",
   "metadata": {},
   "outputs": [
    {
     "name": "stdout",
     "output_type": "stream",
     "text": [
      "Benar\n"
     ]
    }
   ],
   "source": [
    "a = 10\n",
    "b = 5\n",
    "c = True\n",
    "\n",
    "if c != (a < b):\n",
    "    print(\"Benar\")\n",
    "else:\n",
    "    print(\"Salah\")"
   ]
  },
  {
   "cell_type": "code",
   "execution_count": 31,
   "id": "d10aea93",
   "metadata": {},
   "outputs": [
    {
     "name": "stdout",
     "output_type": "stream",
     "text": [
      "True\n"
     ]
    }
   ],
   "source": [
    "print(\"ha\" == \"ha\")"
   ]
  },
  {
   "cell_type": "code",
   "execution_count": 32,
   "id": "02693ca9",
   "metadata": {},
   "outputs": [
    {
     "data": {
      "text/plain": [
       "False"
      ]
     },
     "execution_count": 32,
     "metadata": {},
     "output_type": "execute_result"
    }
   ],
   "source": [
    "a < 5"
   ]
  },
  {
   "cell_type": "code",
   "execution_count": 39,
   "id": "caae1b11",
   "metadata": {},
   "outputs": [
    {
     "name": "stdout",
     "output_type": "stream",
     "text": [
      "1 2 3 4 5 "
     ]
    }
   ],
   "source": [
    "for i in [1, 2, 3, 4, 5]:\n",
    "    print(i, end=\" \")"
   ]
  },
  {
   "cell_type": "code",
   "execution_count": 38,
   "id": "846d7143",
   "metadata": {},
   "outputs": [
    {
     "name": "stdout",
     "output_type": "stream",
     "text": [
      "5 6 7 8 9 "
     ]
    }
   ],
   "source": [
    "for i in range(5, 10):\n",
    "    print(i, end=\" \")"
   ]
  },
  {
   "cell_type": "code",
   "execution_count": 45,
   "id": "ec2784ba",
   "metadata": {},
   "outputs": [
    {
     "name": "stdout",
     "output_type": "stream",
     "text": [
      "10 8 6 4 "
     ]
    }
   ],
   "source": [
    "for i in range(10, 2, -2):\n",
    "    print(i, end=\" \")"
   ]
  },
  {
   "cell_type": "code",
   "execution_count": 63,
   "id": "265e37b9",
   "metadata": {},
   "outputs": [],
   "source": [
    "def bilangan_ganjil(nilai):\n",
    "    prima = False\n",
    "    \n",
    "    if nilai % 2 == 0:\n",
    "        prima = True\n",
    "    else:\n",
    "        prima = False\n",
    "    \n",
    "    if prima:\n",
    "        print(nilai, \"adalah bilangan ganjil\")\n",
    "    else:\n",
    "        print(nilai, \"bukan bilangan ganjil\")"
   ]
  },
  {
   "cell_type": "code",
   "execution_count": 70,
   "id": "81cdaf2a",
   "metadata": {},
   "outputs": [
    {
     "name": "stdout",
     "output_type": "stream",
     "text": [
      "4 adalah bilangan ganjil\n"
     ]
    }
   ],
   "source": [
    "bilangan_ganjil(4)"
   ]
  },
  {
   "cell_type": "code",
   "execution_count": 73,
   "id": "aea13586",
   "metadata": {},
   "outputs": [
    {
     "data": {
      "text/plain": [
       "100"
      ]
     },
     "execution_count": 73,
     "metadata": {},
     "output_type": "execute_result"
    }
   ],
   "source": [
    "100 % 231"
   ]
  },
  {
   "cell_type": "code",
   "execution_count": null,
   "id": "86fe0264",
   "metadata": {},
   "outputs": [],
   "source": [
    "%, +, -, *, /, =, "
   ]
  }
 ],
 "metadata": {
  "celltoolbar": "Slideshow",
  "kernelspec": {
   "display_name": "Python 3 (ipykernel)",
   "language": "python",
   "name": "python3"
  },
  "language_info": {
   "codemirror_mode": {
    "name": "ipython",
    "version": 3
   },
   "file_extension": ".py",
   "mimetype": "text/x-python",
   "name": "python",
   "nbconvert_exporter": "python",
   "pygments_lexer": "ipython3",
   "version": "3.10.8"
  }
 },
 "nbformat": 4,
 "nbformat_minor": 5
}
