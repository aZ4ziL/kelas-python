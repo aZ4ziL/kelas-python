{
 "cells": [
  {
   "cell_type": "markdown",
   "id": "897e4718",
   "metadata": {
    "slideshow": {
     "slide_type": "slide"
    }
   },
   "source": [
    "# Fungsi (Function)"
   ]
  },
  {
   "cell_type": "markdown",
   "id": "475df31e",
   "metadata": {
    "slideshow": {
     "slide_type": "subslide"
    }
   },
   "source": [
    "Didadalam bahasa pemrograman apapun fungsi menfasilitasi penggunaan kembali kode. Secara sederhana, ketika kamu ingin melakukan sesuatu berulang kali, kamu dapat mendefinisikan sesuatu itu sebagai fungsi dan memanggil fungsi itu kapan pun kamu perlu."
   ]
  },
  {
   "cell_type": "markdown",
   "id": "8ca12359",
   "metadata": {
    "slideshow": {
     "slide_type": "subslide"
    }
   },
   "source": [
    "## Sintaks\n",
    "\n",
    "Berikut pendefinisian penggunaan fungsi secara umum:"
   ]
  },
  {
   "cell_type": "code",
   "execution_count": 2,
   "id": "a3f87eb9",
   "metadata": {
    "slideshow": {
     "slide_type": "fragment"
    }
   },
   "outputs": [],
   "source": [
    "def my_func():\n",
    "    a = 1 + 2\n",
    "    return a"
   ]
  },
  {
   "cell_type": "markdown",
   "id": "7fd9de90",
   "metadata": {
    "slideshow": {
     "slide_type": "subslide"
    }
   },
   "source": [
    "# Kegunaan Fungsi\n",
    "\n",
    "1. Mempersingkat waktu ngoding.\n",
    "2. Tidak menulis ulang-ulang.\n",
    "3. Menghemat ukuran program.\n",
    "4. Program menjadi terstruktur"
   ]
  },
  {
   "cell_type": "code",
   "execution_count": null,
   "id": "cabe15a3",
   "metadata": {},
   "outputs": [],
   "source": [
    "def print_hello():\n",
    "    print(\"Hello\")\n",
    "\n",
    "print_hello()"
   ]
  },
  {
   "cell_type": "code",
   "execution_count": null,
   "id": "b789aaba",
   "metadata": {},
   "outputs": [],
   "source": [
    "def sembako(kg):\n",
    "    cabe=\n",
    "    harga= kg = "
   ]
  },
  {
   "cell_type": "code",
   "execution_count": 6,
   "id": "1ba89921",
   "metadata": {},
   "outputs": [
    {
     "name": "stdout",
     "output_type": "stream",
     "text": [
      "Nama lengkap: Susi\n",
      "Nama lengkap: Susi\n",
      "Nama lengkap: Susi\n",
      "Tinggi 175.98126\n"
     ]
    }
   ],
   "source": [
    "nama = \"Susi\"\n",
    "umur = 20\n",
    "tinggi = 175.9812639813791\n",
    "\n",
    "print(f\"Nama lengkap: {nama}\")\n",
    "print(\"Nama lengkap: %s\" % nama)\n",
    "print(\"Nama lengkap: {}\".format(nama))\n",
    "\n",
    "print(\"Tinggi %.f\" % tinggi)"
   ]
  },
  {
   "cell_type": "code",
   "execution_count": 8,
   "id": "cc59bf16",
   "metadata": {},
   "outputs": [
    {
     "name": "stdout",
     "output_type": "stream",
     "text": [
      "True\n"
     ]
    }
   ],
   "source": [
    "nomor = 23\n",
    "\n",
    "print(isinstance(nomor, int))"
   ]
  },
  {
   "cell_type": "code",
   "execution_count": null,
   "id": "e99ed8aa",
   "metadata": {},
   "outputs": [],
   "source": []
  }
 ],
 "metadata": {
  "celltoolbar": "Slideshow",
  "kernelspec": {
   "display_name": "Python 3 (ipykernel)",
   "language": "python",
   "name": "python3"
  },
  "language_info": {
   "codemirror_mode": {
    "name": "ipython",
    "version": 3
   },
   "file_extension": ".py",
   "mimetype": "text/x-python",
   "name": "python",
   "nbconvert_exporter": "python",
   "pygments_lexer": "ipython3",
   "version": "3.10.6"
  }
 },
 "nbformat": 4,
 "nbformat_minor": 5
}
