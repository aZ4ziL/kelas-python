{
 "cells": [
  {
   "cell_type": "markdown",
   "id": "ccb04f54",
   "metadata": {
    "slideshow": {
     "slide_type": "slide"
    }
   },
   "source": [
    "# Tipe Data\n",
    "\n",
    "Tipe data dalam istilah dunia pemrograman ialah bentuk / jenis dari data yang di klarifikasikan oleh sebuah variabel. Tipe data di `Python` ada lima. Yaitu:\n",
    "\n",
    "Di bahasa program yang lain biasanya untuk membuat sebuah tipe data harus dideklarasikan terlebih dahulu, contoh:"
   ]
  },
  {
   "cell_type": "markdown",
   "id": "7afa0133",
   "metadata": {
    "slideshow": {
     "slide_type": "subslide"
    }
   },
   "source": [
    "- Integer (Bilangan Bulat)\n",
    "- Float (Bilangan Desimal)\n",
    "- String (Karakter/teks)\n",
    "- Boolean (True / False)\n",
    "- List (Data untaian yang menyimpan berbagai tipe data dan isinya bisa diubah-ubah)\n",
    "- Tuple (Data untaian yang menyimpan berbagai tipe data tapi isinya tidak bisa diubah)\n",
    "- Dictionary (Data untaian yang menyimpan berbagai tipe data berupa pasangan penunjuk dan nilai)"
   ]
  },
  {
   "cell_type": "markdown",
   "id": "9b2f946e",
   "metadata": {
    "slideshow": {
     "slide_type": "subslide"
    }
   },
   "source": [
    "Pada bahasa pemrograman yang lain untuk mendeklarasikan sebuah variabel harus di sisipkan tipe datanya. Misal:\n",
    "\n",
    "```java\n",
    "int x = 10;\n",
    "String name = \"Pro\"\n",
    "```\n",
    "\n",
    "Berbeda dengan python yang tidak perlu mendeklarasikan tipe datanya terlebih dahulu. Contoh:\n",
    "\n",
    "```python\n",
    "value = 10\n",
    "name = \"Pro\"\n",
    "```"
   ]
  },
  {
   "cell_type": "markdown",
   "id": "fd09e071",
   "metadata": {
    "slideshow": {
     "slide_type": "subslide"
    }
   },
   "source": [
    "Bisa kita lihat perintah dari `value = 10` jenis tipe datanya adalah integer. Karena yang menentukan jenis tipe data untuk variabel adalah apa jenis dari value-nya. Misal `nama = \"Testing\"` otomatis tipe dari variabel ini merupakan tipe String."
   ]
  },
  {
   "cell_type": "markdown",
   "id": "b794542d",
   "metadata": {
    "slideshow": {
     "slide_type": "slide"
    }
   },
   "source": [
    "## String\n",
    "\n",
    "Tipe data string adalah tipe yang berisi teks atau karakter."
   ]
  },
  {
   "cell_type": "code",
   "execution_count": 3,
   "id": "fdb2c059",
   "metadata": {
    "slideshow": {
     "slide_type": "subslide"
    }
   },
   "outputs": [
    {
     "name": "stdout",
     "output_type": "stream",
     "text": [
      "Python\n"
     ]
    }
   ],
   "source": [
    "# Misalkan\n",
    "nama = \"Python\"\n",
    "\n",
    "# Print\n",
    "print(nama)"
   ]
  },
  {
   "cell_type": "code",
   "execution_count": 2,
   "id": "faa1f9e1",
   "metadata": {
    "slideshow": {
     "slide_type": "subslide"
    }
   },
   "outputs": [
    {
     "name": "stdout",
     "output_type": "stream",
     "text": [
      "Python\n"
     ]
    }
   ],
   "source": [
    "kelas = \"Python\"\n",
    "\n",
    "print(kelas)"
   ]
  },
  {
   "cell_type": "markdown",
   "id": "adf0c4df",
   "metadata": {
    "slideshow": {
     "slide_type": "slide"
    }
   },
   "source": [
    "### Menampilkan jenis tipe data dengan type()\n",
    "\n",
    "Dengan perintah `type(somevariabel)` kita bisa melihat output yang keluar yaitu apa jenis tipe datanya."
   ]
  },
  {
   "cell_type": "code",
   "execution_count": 1,
   "id": "3379c9cb",
   "metadata": {
    "slideshow": {
     "slide_type": "subslide"
    }
   },
   "outputs": [
    {
     "name": "stdout",
     "output_type": "stream",
     "text": [
      "https://python.org\n",
      "<class 'str'>\n"
     ]
    }
   ],
   "source": [
    "url = \"https://python.org\"\n",
    "\n",
    "print(url)\n",
    "print(type(url)) "
   ]
  },
  {
   "cell_type": "markdown",
   "id": "de7d94b5",
   "metadata": {
    "slideshow": {
     "slide_type": "slide"
    }
   },
   "source": [
    "# Latihan `String`\n",
    "\n",
    "1. Apa itu tipe data?\n",
    "2. Kenapa Python tidak menggunakan tipe data di variabel saat mendeklarasikan variabel?\n",
    "3. Buat sebuah variabel dengan value terserah!\n",
    "4. Print variabel pada soal no 3\n",
    "5. Print jenis tipe data apa pada variabel di soal 3!"
   ]
  },
  {
   "cell_type": "markdown",
   "id": "19dcee0b",
   "metadata": {
    "slideshow": {
     "slide_type": "slide"
    }
   },
   "source": [
    "## Interger Dan Float\n",
    "\n",
    "Integer merupakan tipe data yang berjenis `bilangan bulat`. Float merupakan tipe data yang berjenis `bilangan desimal`."
   ]
  },
  {
   "cell_type": "code",
   "execution_count": 2,
   "id": "67fbd528",
   "metadata": {
    "slideshow": {
     "slide_type": "subslide"
    }
   },
   "outputs": [
    {
     "name": "stdout",
     "output_type": "stream",
     "text": [
      "10\n",
      "10.0\n",
      "\n",
      "<class 'int'>\n",
      "<class 'float'>\n"
     ]
    }
   ],
   "source": [
    "nilai_bulat = 10\n",
    "nilai_desimal = 10.0\n",
    "\n",
    "print(nilai_bulat)\n",
    "print(nilai_desimal)\n",
    "\n",
    "print() # print kosong digunakan untuk baris baru.\n",
    "print(type(nilai_bulat))\n",
    "print(type(nilai_desimal))"
   ]
  },
  {
   "cell_type": "markdown",
   "id": "8307cc1f",
   "metadata": {
    "slideshow": {
     "slide_type": "subslide"
    }
   },
   "source": [
    "> Catatan: Yang membedakan integer dan float adalah dari value-nya. Jika integer tidak menggunakan pecahan, sedangkan `float` menggunakan pecahan yaitu bilangan berkoma.\n",
    "\n",
    "> Kenapa pada program diatas tidak menggunakan tanda (`,`)/koma. Karena pada pemrograman koma itu hanya untuk memisahkan objek atau array."
   ]
  },
  {
   "cell_type": "markdown",
   "id": "2a112a02",
   "metadata": {
    "slideshow": {
     "slide_type": "slide"
    }
   },
   "source": [
    "# Terima Kasih\n",
    "\n",
    "Untuk materi besok kita masuk ke pembahasan tipe data `boolean`"
   ]
  }
 ],
 "metadata": {
  "celltoolbar": "Slideshow",
  "kernelspec": {
   "display_name": "Python 3 (ipykernel)",
   "language": "python",
   "name": "python3"
  },
  "language_info": {
   "codemirror_mode": {
    "name": "ipython",
    "version": 3
   },
   "file_extension": ".py",
   "mimetype": "text/x-python",
   "name": "python",
   "nbconvert_exporter": "python",
   "pygments_lexer": "ipython3",
   "version": "3.10.8"
  }
 },
 "nbformat": 4,
 "nbformat_minor": 5
}
